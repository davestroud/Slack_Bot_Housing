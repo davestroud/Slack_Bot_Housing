{
 "cells": [
  {
   "cell_type": "code",
   "execution_count": 6,
   "metadata": {},
   "outputs": [
    {
     "name": "stdout",
     "output_type": "stream",
     "text": [
      "{'name': u'Beautiful Mobile Home Community', 'has_image': True, 'url': u'http://sfbay.craigslist.org/sfc/apa/5727859215.html', 'has_map': True, 'price': u'$1000', 'geotag': (40.615921, -122.37928), 'where': u'Redding', 'id': u'5727859215', 'datetime': u'2016-08-24 17:14'}\n",
      "{'name': u'Beautiful Studio w/ Hardwood Floors', 'has_image': True, 'url': u'http://sfbay.craigslist.org/sfc/apa/5737134972.html', 'has_map': True, 'price': u'$1950', 'geotag': (37.77429, -122.487534), 'where': u'richmond / seacliff', 'id': u'5737134972', 'datetime': u'2016-08-24 17:06'}\n",
      "{'name': u'LOCATION!!! STUDIO AT GRND LEVEL, EAT AREA WITH BAR, INDEPEND. ENTRY', 'has_image': True, 'url': u'http://sfbay.craigslist.org/sfc/apa/5715631449.html', 'has_map': True, 'price': u'$1750', 'geotag': (37.739564, -122.469975), 'where': u'west portal / forest hill', 'id': u'5715631449', 'datetime': u'2016-08-24 17:02'}\n",
      "{'name': u'LOCATION!!! STUDIO AT GRND LEVEL, INDEPEND. STREET ENTRY', 'has_image': True, 'url': u'http://sfbay.craigslist.org/sfc/apa/5717775773.html', 'has_map': True, 'price': u'$1750', 'geotag': (37.7441, -122.4863), 'where': u'inner sunset / UCSF', 'id': u'5717775773', 'datetime': u'2016-08-24 17:01'}\n",
      "{'name': u'LOCATION!!! STUDIO AT GRND LEVEL, INDEPEND. STREET ENTRY', 'has_image': True, 'url': u'http://sfbay.craigslist.org/sfc/apa/5717777791.html', 'has_map': True, 'price': u'$1750', 'geotag': (37.739564, -122.469975), 'where': u'sunset / parkside', 'id': u'5717777791', 'datetime': u'2016-08-24 17:00'}\n",
      "{'name': u'Studio Apartment in Eclectic Tenderloin Neighborhood - Photos to Come', 'has_image': True, 'url': u'http://sfbay.craigslist.org/sfc/apa/5749011124.html', 'has_map': True, 'price': u'$1695', 'geotag': (37.782623, -122.415393), 'where': u'tenderloin', 'id': u'5749011124', 'datetime': u'2016-08-24 16:34'}\n",
      "{'name': u'Flat in the Marina - No Depost Needed', 'has_image': True, 'url': u'http://sfbay.craigslist.org/sfc/apa/5748946591.html', 'has_map': True, 'price': u'$2000', 'geotag': (37.7999, -122.4342), 'where': u'marina / cow hollow', 'id': u'5748946591', 'datetime': u'2016-08-24 16:30'}\n",
      "{'name': u'Mind-Blowing, Unique 1 Bedroom Apartment in San Francisco', 'has_image': False, 'url': u'http://sfbay.craigslist.org/sfc/apa/5748991110.html', 'has_map': True, 'price': u'$1300', 'geotag': (37.799125, -122.476543), 'where': u'San Francisco', 'id': u'5748991110', 'datetime': u'2016-08-24 16:27'}\n",
      "{'name': u'Hotshot Location, Cool Amenities - Photos to Come', 'has_image': True, 'url': u'http://sfbay.craigslist.org/sfc/apa/5749005167.html', 'has_map': True, 'price': u'$1995', 'geotag': (37.786995, -122.418609), 'where': u'downtown / civic / van ness', 'id': u'5749005167', 'datetime': u'2016-08-24 16:26'}\n",
      "{'name': u'View Now: 2-6 Month Lease in Shared Room in Luxury Apartment for $1350', 'has_image': True, 'url': u'http://sfbay.craigslist.org/sfc/apa/5749009153.html', 'has_map': True, 'price': u'$1350', 'geotag': (37.774514, -122.395077), 'where': u'SOMA / south beach', 'id': u'5749009153', 'datetime': u'2016-08-24 16:19'}\n",
      "{'name': u'STUDIO (large)', 'has_image': False, 'url': u'http://sfbay.craigslist.org/sfc/apa/5748922616.html', 'has_map': True, 'price': u'$1950', 'geotag': (37.789226, -122.408595), 'where': u'lower nob hill', 'id': u'5748922616', 'datetime': u'2016-08-24 15:56'}\n",
      "{'name': u'Clean/Cozy inlaw studio: cable, w/d, 2 blks 2 buses lines', 'has_image': True, 'url': u'http://sfbay.craigslist.org/sfc/apa/5748971621.html', 'has_map': True, 'price': u'$1350', 'geotag': (37.755991, -122.503481), 'where': u'sunset / parkside', 'id': u'5748971621', 'datetime': u'2016-08-24 15:53'}\n",
      "{'name': u'One bedroom room in-law', 'has_image': True, 'url': u'http://sfbay.craigslist.org/sfc/apa/5727026290.html', 'has_map': True, 'price': u'$1680', 'geotag': (37.7211, -122.4754), 'where': u'Lake Merced', 'id': u'5727026290', 'datetime': u'2016-08-24 15:53'}\n",
      "{'name': u'Bright Corner Unit Studio w/ Hardwood Floors (Rentals In SF)', 'has_image': True, 'url': u'http://sfbay.craigslist.org/sfc/apa/5739356614.html', 'has_map': True, 'price': u'$1795', 'geotag': (37.758722, -122.446021), 'where': u'twin peaks / diamond hts', 'id': u'5739356614', 'datetime': u'2016-08-24 15:52'}\n",
      "{'name': u'Great Room Available in Inner Sunset', 'has_image': True, 'url': u'http://sfbay.craigslist.org/sfc/apa/5748967512.html', 'has_map': True, 'price': u'$1440', 'geotag': (37.764264, -122.4761), 'where': u'inner sunset / UCSF', 'id': u'5748967512', 'datetime': u'2016-08-24 15:50'}\n",
      "{'name': u'Great Studio in Hip, Up, and Coming Area - Civic Center', 'has_image': True, 'url': u'http://sfbay.craigslist.org/sfc/apa/5706970785.html', 'has_map': True, 'price': u'$1910', 'geotag': (37.780948, -122.413514), 'where': u'downtown / civic / van ness', 'id': u'5706970785', 'datetime': u'2016-08-24 15:18'}\n",
      "{'name': u'Large 1bd in a 2bd apt - WIFI & Utilities Included', 'has_image': True, 'url': u'http://sfbay.craigslist.org/sfc/apa/5748896185.html', 'has_map': True, 'price': u'$1400', 'geotag': (37.714905, -122.456072), 'where': u'ingleside / SFSU / CCSF', 'id': u'5748896185', 'datetime': u'2016-08-24 15:12'}\n",
      "{'name': u'September 1 Move-in - Large Room - Alamo Square', 'has_image': True, 'url': u'http://sfbay.craigslist.org/sfc/apa/5744296249.html', 'has_map': True, 'price': u'$1500', 'geotag': (37.77749, -122.433219), 'where': u'alamo square / nopa', 'id': u'5744296249', 'datetime': u'2016-08-24 15:08'}\n",
      "{'name': u'Marina Room Available - No Deposit Needed, Short or Long Term Lease', 'has_image': True, 'url': u'http://sfbay.craigslist.org/sfc/apa/5736941621.html', 'has_map': True, 'price': u'$2000', 'geotag': (37.7999, -122.4342), 'where': u'marina / cow hollow', 'id': u'5736941621', 'datetime': u'2016-08-24 14:59'}\n",
      "{'name': u'Charming Sunny Studio', 'has_image': True, 'url': u'http://sfbay.craigslist.org/sfc/apa/5748846838.html', 'has_map': True, 'price': u'$1650', 'geotag': (37.7812, -122.4614), 'where': u'Haight Ashbury', 'id': u'5748846838', 'datetime': u'2016-08-24 14:33'}\n"
     ]
    }
   ],
   "source": [
    "from craigslist import CraigslistHousing\n",
    "\n",
    "cl = CraigslistHousing(site='sfbay', area='sfc', category='apa',\n",
    "                         filters={'max_price': 2000, 'min_price': 1000})\n",
    "\n",
    "results = cl.get_results(sort_by='newest', geotagged=True, limit=20)\n",
    "for result in results:\n",
    "    print result"
   ]
  },
  {
   "cell_type": "code",
   "execution_count": null,
   "metadata": {},
   "outputs": [],
   "source": []
  }
 ],
 "metadata": {
  "kernelspec": {
   "display_name": "Python 2",
   "language": "python",
   "name": "python2"
  },
  "language_info": {
   "codemirror_mode": {
    "name": "ipython",
    "version": 2
   },
   "file_extension": ".py",
   "mimetype": "text/x-python",
   "name": "python",
   "nbconvert_exporter": "python",
   "pygments_lexer": "ipython2",
   "version": "2.7.12"
  }
 },
 "nbformat": 4,
 "nbformat_minor": 0
}
